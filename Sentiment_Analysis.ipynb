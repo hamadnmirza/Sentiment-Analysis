{
  "nbformat": 4,
  "nbformat_minor": 0,
  "metadata": {
    "colab": {
      "name": "Sentiment Analysis.ipynb",
      "provenance": []
    },
    "kernelspec": {
      "name": "python3",
      "display_name": "Python 3"
    }
  },
  "cells": [
    {
      "cell_type": "code",
      "metadata": {
        "id": "h1JqKfR5HgCP",
        "colab": {
          "base_uri": "https://localhost:8080/",
          "height": 88
        },
        "outputId": "fe9caa72-1d9f-4acf-dccd-0e9ea8a33fc9"
      },
      "source": [
        "#sentiment analysis project##\n",
        "pip install textblob"
      ],
      "execution_count": null,
      "outputs": [
        {
          "output_type": "stream",
          "text": [
            "Requirement already satisfied: textblob in /usr/local/lib/python3.6/dist-packages (0.15.3)\n",
            "Requirement already satisfied: nltk>=3.1 in /usr/local/lib/python3.6/dist-packages (from textblob) (3.2.5)\n",
            "Requirement already satisfied: six in /usr/local/lib/python3.6/dist-packages (from nltk>=3.1->textblob) (1.12.0)\n"
          ],
          "name": "stdout"
        }
      ]
    },
    {
      "cell_type": "code",
      "metadata": {
        "id": "IVZ-_Ov3IB3T",
        "colab": {
          "base_uri": "https://localhost:8080/",
          "height": 136
        },
        "outputId": "f9c2b2f7-132d-4dbb-e77d-5497118f6141"
      },
      "source": [
        "from textblob import TextBlob\n",
        "import nltk\n",
        "nltk.download(\"wordnet\")\n",
        "nltk.download(\"brown\")\n",
        "nltk.download('punkt')\n"
      ],
      "execution_count": null,
      "outputs": [
        {
          "output_type": "stream",
          "text": [
            "[nltk_data] Downloading package wordnet to /root/nltk_data...\n",
            "[nltk_data]   Package wordnet is already up-to-date!\n",
            "[nltk_data] Downloading package brown to /root/nltk_data...\n",
            "[nltk_data]   Package brown is already up-to-date!\n",
            "[nltk_data] Downloading package punkt to /root/nltk_data...\n",
            "[nltk_data]   Unzipping tokenizers/punkt.zip.\n"
          ],
          "name": "stdout"
        },
        {
          "output_type": "execute_result",
          "data": {
            "text/plain": [
              "True"
            ]
          },
          "metadata": {
            "tags": []
          },
          "execution_count": 31
        }
      ]
    },
    {
      "cell_type": "code",
      "metadata": {
        "id": "XmYlHNopIFwC"
      },
      "source": [
        "text1 = \"\"\"  \n",
        "I like chicken biryani.\n",
        "I like chicken biryani more than lamb biryani. \n",
        "Sometimes I am in the mood for lamb but then I remember how much I love chicken biryani. \n",
        "I am fat. \n",
        "I love food. \n",
        "\"\"\""
      ],
      "execution_count": null,
      "outputs": []
    },
    {
      "cell_type": "markdown",
      "metadata": {
        "id": "goh_o9PdKBd3"
      },
      "source": [
        ""
      ]
    },
    {
      "cell_type": "code",
      "metadata": {
        "id": "Ltwm_e4-IvMK"
      },
      "source": [
        "blob = TextBlob(text1)"
      ],
      "execution_count": null,
      "outputs": []
    },
    {
      "cell_type": "code",
      "metadata": {
        "id": "wyWtiCi2I_vD",
        "colab": {
          "base_uri": "https://localhost:8080/",
          "height": 34
        },
        "outputId": "4340c2a1-d59a-48ba-aa29-4427c02df4c1"
      },
      "source": [
        "blob.noun_phrases"
      ],
      "execution_count": null,
      "outputs": [
        {
          "output_type": "execute_result",
          "data": {
            "text/plain": [
              "WordList(['chicken biryani', 'chicken biryani', 'lamb biryani', 'chicken biryani'])"
            ]
          },
          "metadata": {
            "tags": []
          },
          "execution_count": 34
        }
      ]
    },
    {
      "cell_type": "code",
      "metadata": {
        "id": "Wokw3VFrKtNy",
        "colab": {
          "base_uri": "https://localhost:8080/",
          "height": 34
        },
        "outputId": "06fa97ea-ea54-4fce-dccb-e4a369d2e106"
      },
      "source": [
        "#tells you how positive or negative the text is. This text is slightly negative. polarity is on a range between (-1, 1)\n",
        "polarity = blob.polarity\n",
        "polarity\n",
        "\n"
      ],
      "execution_count": null,
      "outputs": [
        {
          "output_type": "execute_result",
          "data": {
            "text/plain": [
              "-0.04999999999999999"
            ]
          },
          "metadata": {
            "tags": []
          },
          "execution_count": 40
        }
      ]
    },
    {
      "cell_type": "code",
      "metadata": {
        "id": "9wCnxdDrLM2O",
        "colab": {
          "base_uri": "https://localhost:8080/",
          "height": 34
        },
        "outputId": "ff878d1d-8754-44d1-bd92-ddab5b62b921"
      },
      "source": [
        "#shows you if your article/ passage is subjective or objective. Also ranges from (0,1)\n",
        "blob.subjectivity"
      ],
      "execution_count": null,
      "outputs": [
        {
          "output_type": "execute_result",
          "data": {
            "text/plain": [
              "0.7583333333333333"
            ]
          },
          "metadata": {
            "tags": []
          },
          "execution_count": 42
        }
      ]
    },
    {
      "cell_type": "code",
      "metadata": {
        "id": "63mZUHUMLiqx",
        "colab": {
          "base_uri": "https://localhost:8080/",
          "height": 34
        },
        "outputId": "6118a1a5-bbfd-4e29-a635-abad811595eb"
      },
      "source": [
        "blob.sentiment #returns both polarity and subjectivity  "
      ],
      "execution_count": null,
      "outputs": [
        {
          "output_type": "execute_result",
          "data": {
            "text/plain": [
              "Sentiment(polarity=-0.04999999999999999, subjectivity=0.7583333333333333)"
            ]
          },
          "metadata": {
            "tags": []
          },
          "execution_count": 43
        }
      ]
    },
    {
      "cell_type": "code",
      "metadata": {
        "id": "b30_JZzCLt8T",
        "colab": {
          "base_uri": "https://localhost:8080/",
          "height": 663
        },
        "outputId": "fadf1994-882e-4f38-9e33-ec8a5418db62"
      },
      "source": [
        "text1.split(\" \") #tokenization of the passage above. tokenization just means you're breaking your data into tokens your machine can analyse. "
      ],
      "execution_count": null,
      "outputs": [
        {
          "output_type": "execute_result",
          "data": {
            "text/plain": [
              "['',\n",
              " '',\n",
              " '\\nI',\n",
              " 'like',\n",
              " 'chicken',\n",
              " 'biryani.\\nI',\n",
              " 'like',\n",
              " 'chicken',\n",
              " 'biryani',\n",
              " 'more',\n",
              " 'than',\n",
              " 'lamb',\n",
              " 'biryani.',\n",
              " '\\nSometimes',\n",
              " 'I',\n",
              " 'am',\n",
              " 'in',\n",
              " 'the',\n",
              " 'mood',\n",
              " 'for',\n",
              " 'lamb',\n",
              " 'but',\n",
              " 'then',\n",
              " 'I',\n",
              " 'remember',\n",
              " 'how',\n",
              " 'much',\n",
              " 'I',\n",
              " 'love',\n",
              " 'chicken',\n",
              " 'biryani.',\n",
              " '\\nI',\n",
              " 'am',\n",
              " 'fat.',\n",
              " '\\nI',\n",
              " 'love',\n",
              " 'food.',\n",
              " '\\n']"
            ]
          },
          "metadata": {
            "tags": []
          },
          "execution_count": 44
        }
      ]
    },
    {
      "cell_type": "code",
      "metadata": {
        "id": "hGP_aQNhMO2S",
        "colab": {
          "base_uri": "https://localhost:8080/",
          "height": 54
        },
        "outputId": "b1900b3a-146c-4b39-cd8c-396f2a97413a"
      },
      "source": [
        "blob.words"
      ],
      "execution_count": null,
      "outputs": [
        {
          "output_type": "execute_result",
          "data": {
            "text/plain": [
              "WordList(['I', 'like', 'chicken', 'biryani', 'I', 'like', 'chicken', 'biryani', 'more', 'than', 'lamb', 'biryani', 'Sometimes', 'I', 'am', 'in', 'the', 'mood', 'for', 'lamb', 'but', 'then', 'I', 'remember', 'how', 'much', 'I', 'love', 'chicken', 'biryani', 'I', 'am', 'fat', 'I', 'love', 'food'])"
            ]
          },
          "metadata": {
            "tags": []
          },
          "execution_count": 46
        }
      ]
    },
    {
      "cell_type": "code",
      "metadata": {
        "id": "uKeAbQQQMY1f",
        "colab": {
          "base_uri": "https://localhost:8080/",
          "height": 34
        },
        "outputId": "8715fa0e-bfd8-422b-a7a2-48f5a85a6d42"
      },
      "source": [
        "blob.words[1]"
      ],
      "execution_count": null,
      "outputs": [
        {
          "output_type": "execute_result",
          "data": {
            "text/plain": [
              "'like'"
            ]
          },
          "metadata": {
            "tags": []
          },
          "execution_count": 47
        }
      ]
    },
    {
      "cell_type": "code",
      "metadata": {
        "id": "QFiu5e1HMiiG",
        "colab": {
          "base_uri": "https://localhost:8080/",
          "height": 34
        },
        "outputId": "dde819bb-2a81-4b2e-bc29-4fb6c807ec00"
      },
      "source": [
        "blob.words[3]"
      ],
      "execution_count": null,
      "outputs": [
        {
          "output_type": "execute_result",
          "data": {
            "text/plain": [
              "'biryani'"
            ]
          },
          "metadata": {
            "tags": []
          },
          "execution_count": 48
        }
      ]
    },
    {
      "cell_type": "code",
      "metadata": {
        "id": "loVHgk80Mjzo",
        "colab": {
          "base_uri": "https://localhost:8080/",
          "height": 34
        },
        "outputId": "fc1d154f-e1b4-45ea-ce4a-5e215e1f1e77"
      },
      "source": [
        "blob.words[-1]"
      ],
      "execution_count": null,
      "outputs": [
        {
          "output_type": "execute_result",
          "data": {
            "text/plain": [
              "'food'"
            ]
          },
          "metadata": {
            "tags": []
          },
          "execution_count": 49
        }
      ]
    },
    {
      "cell_type": "code",
      "metadata": {
        "id": "ZPhvjtK-Ml9n",
        "colab": {
          "base_uri": "https://localhost:8080/",
          "height": 34
        },
        "outputId": "d86ae97b-9f98-41f2-ea37-a30500ce3c30"
      },
      "source": [
        "blob.words[-2]"
      ],
      "execution_count": null,
      "outputs": [
        {
          "output_type": "execute_result",
          "data": {
            "text/plain": [
              "'love'"
            ]
          },
          "metadata": {
            "tags": []
          },
          "execution_count": 50
        }
      ]
    },
    {
      "cell_type": "code",
      "metadata": {
        "id": "uGkaiPqWMoeG",
        "colab": {
          "base_uri": "https://localhost:8080/",
          "height": 34
        },
        "outputId": "f2a3a99e-0010-42c8-d4f3-08a529aeb075"
      },
      "source": [
        "sent2 = blob.sentences[2]\n",
        "str(sent2)\n",
        "#converting your \"blob\" into a string that your computer can \"understand\"   "
      ],
      "execution_count": null,
      "outputs": [
        {
          "output_type": "execute_result",
          "data": {
            "text/plain": [
              "'Sometimes I am in the mood for lamb but then I remember how much I love chicken biryani.'"
            ]
          },
          "metadata": {
            "tags": []
          },
          "execution_count": 56
        }
      ]
    },
    {
      "cell_type": "code",
      "metadata": {
        "id": "7LB3KK_4MqVS",
        "colab": {
          "base_uri": "https://localhost:8080/",
          "height": 34
        },
        "outputId": "749329bf-eb7e-425f-dd56-9bb26fd3d11f"
      },
      "source": [
        "#words lemmatization. Convert an inflection or derivational forms of a word to the base form i.e. giving to give. Allows my passage to be analysed in a base form\n",
        "#time for translation// de stands for deutschland; fr for france. There are other abbreviations. \n",
        "blob = TextBlob(\"I like keema naan. I also like garlic naan.\")\n",
        "blob.translate(to=\"fr\")"
      ],
      "execution_count": null,
      "outputs": [
        {
          "output_type": "execute_result",
          "data": {
            "text/plain": [
              "TextBlob(\"J'aime keema naan. J'aime aussi le naan à l'ail.\")"
            ]
          },
          "metadata": {
            "tags": []
          },
          "execution_count": 60
        }
      ]
    },
    {
      "cell_type": "code",
      "metadata": {
        "id": "RZgGAsllPKyF"
      },
      "source": [
        ""
      ],
      "execution_count": null,
      "outputs": []
    }
  ]
}